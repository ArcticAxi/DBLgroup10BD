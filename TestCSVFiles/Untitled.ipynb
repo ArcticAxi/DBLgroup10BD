{
 "cells": [
  {
   "cell_type": "code",
   "execution_count": 10,
   "metadata": {},
   "outputs": [],
   "source": [
    "import csv\n",
    "import random\n",
    "\n",
    "with open('test2.csv', 'w', newline='') as file:\n",
    "    writer = csv.writer(file)\n",
    "    writer.writerow([\"Timestamp\", 'StimuliName', 'FixationIndex', 'FixationDuration', 'MappedFixationPointX', 'MappedFixationPointY', 'user', 'description'])\n",
    "    for i in range(1000000):\n",
    "        timestamp = random.randint(1000,100000)\n",
    "        stimuliname = \"01_Antwerpen_S1.jpg\"\n",
    "        fixationindex = random.randint(1,1000)\n",
    "        fixationduration = random.randint(-100,100000)\n",
    "        fixationx = random.randint(-100,2000)\n",
    "        fixationy = random.randint(-100,2000)\n",
    "        user = 'p'+ str(random.randint(0,100))\n",
    "        description = 'color'\n",
    "        writer.writerow([timestamp, stimuliname, fixationindex, fixationduration, fixationx, fixationy, user, description])\n"
   ]
  }
 ],
 "metadata": {
  "kernelspec": {
   "display_name": "Python 3",
   "language": "python",
   "name": "python3"
  },
  "language_info": {
   "codemirror_mode": {
    "name": "ipython",
    "version": 3
   },
   "file_extension": ".py",
   "mimetype": "text/x-python",
   "name": "python",
   "nbconvert_exporter": "python",
   "pygments_lexer": "ipython3",
   "version": "3.7.3"
  }
 },
 "nbformat": 4,
 "nbformat_minor": 2
}
